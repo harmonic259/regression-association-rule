{
 "cells": [
  {
   "cell_type": "markdown",
   "id": "8a5cceb20243cb51",
   "metadata": {
    "collapsed": false
   },
   "source": [
    "## Importing Libraries"
   ]
  },
  {
   "cell_type": "code",
   "execution_count": 525,
   "id": "513c007129509625",
   "metadata": {
    "ExecuteTime": {
     "end_time": "2024-04-27T22:39:08.679611Z",
     "start_time": "2024-04-27T22:39:08.677798Z"
    },
    "collapsed": false
   },
   "outputs": [],
   "source": [
    "import pandas as pd\n",
    "import numpy as np\n",
    "from pathlib import Path\n",
    "import os\n",
    "import numpy as np\n",
    "from sklearn.model_selection import train_test_split\n",
    "import matplotlib.pyplot as plt\n",
    "import seaborn as sns\n",
    "import xgboost as xgb"
   ]
  },
  {
   "cell_type": "markdown",
   "id": "f4016a2a80b807de",
   "metadata": {
    "collapsed": false
   },
   "source": [
    "## Loading Data to Pandas DataFrame"
   ]
  },
  {
   "cell_type": "code",
   "execution_count": 526,
   "id": "d29b38dfb701904b",
   "metadata": {
    "ExecuteTime": {
     "end_time": "2024-04-27T22:39:11.202352Z",
     "start_time": "2024-04-27T22:39:11.199816Z"
    },
    "collapsed": false
   },
   "outputs": [],
   "source": [
    "df = pd.read_csv('real-estate.csv')"
   ]
  },
  {
   "cell_type": "code",
   "execution_count": 527,
   "id": "4c2fe713",
   "metadata": {},
   "outputs": [
    {
     "name": "stdout",
     "output_type": "stream",
     "text": [
      "   No  X1 transaction date  X2 house age  \\\n",
      "0   1             2012.917          32.0   \n",
      "1   2             2012.917          19.5   \n",
      "2   3             2013.583          13.3   \n",
      "3   4             2013.500          13.3   \n",
      "4   5             2012.833           5.0   \n",
      "\n",
      "   X3 distance to the nearest MRT station  X4 number of convenience stores  \\\n",
      "0                                84.87882                               10   \n",
      "1                               306.59470                                9   \n",
      "2                               561.98450                                5   \n",
      "3                               561.98450                                5   \n",
      "4                               390.56840                                5   \n",
      "\n",
      "   X5 latitude  X6 longitude  Y house price of unit area  \n",
      "0     24.98298     121.54024                        37.9  \n",
      "1     24.98034     121.53951                        42.2  \n",
      "2     24.98746     121.54391                        47.3  \n",
      "3     24.98746     121.54391                        54.8  \n",
      "4     24.97937     121.54245                        43.1  \n"
     ]
    }
   ],
   "source": [
    "print(df.head())"
   ]
  },
  {
   "cell_type": "markdown",
   "id": "7a82dd9cdac10809",
   "metadata": {
    "collapsed": false
   },
   "source": [
    "## Dropping Unnecessary Columns"
   ]
  },
  {
   "cell_type": "code",
   "execution_count": 528,
   "id": "d2c43acc649ad598",
   "metadata": {
    "ExecuteTime": {
     "end_time": "2024-04-27T22:39:14.866814Z",
     "start_time": "2024-04-27T22:39:14.863656Z"
    },
    "collapsed": false
   },
   "outputs": [],
   "source": [
    "df = df.drop(columns=['No', 'X1 transaction date'])"
   ]
  },
  {
   "cell_type": "markdown",
   "id": "90b80fb323fb1cb3",
   "metadata": {
    "collapsed": false
   },
   "source": [
    "## Splitting Data to Train and Test"
   ]
  },
  {
   "cell_type": "code",
   "execution_count": 529,
   "id": "44527331bef11c93",
   "metadata": {
    "ExecuteTime": {
     "end_time": "2024-04-27T22:39:18.483566Z",
     "start_time": "2024-04-27T22:39:18.480011Z"
    },
    "collapsed": false
   },
   "outputs": [],
   "source": [
    "train, test = train_test_split(df, test_size=0.2, random_state=20, shuffle=True)"
   ]
  },
  {
   "cell_type": "markdown",
   "id": "45b13a1182adba70",
   "metadata": {
    "collapsed": false
   },
   "source": [
    "## Visualizing Data Distribution and Correlation"
   ]
  },
  {
   "cell_type": "code",
   "execution_count": 530,
   "id": "7b7fb9f4b420ef65",
   "metadata": {
    "ExecuteTime": {
     "end_time": "2024-04-27T22:39:31.934602Z",
     "start_time": "2024-04-27T22:39:31.931769Z"
    },
    "collapsed": false
   },
   "outputs": [],
   "source": [
    "sns.pairplot(df[df.columns])\n",
    "plt.show()\n"
   ]
  },
  {
   "cell_type": "markdown",
   "id": "d1f94539",
   "metadata": {},
   "source": [
    "## Splitting Features and Targets"
   ]
  },
  {
   "cell_type": "code",
   "execution_count": 531,
   "id": "431f9c4e",
   "metadata": {},
   "outputs": [],
   "source": [
    "X_train = train.iloc[:, 0:-1]\n",
    "y_train = train.iloc[:, -1]\n",
    "X_test = test.iloc[:, 0:-1]\n",
    "y_test = test.iloc[:, -1]"
   ]
  },
  {
   "cell_type": "code",
   "execution_count": 532,
   "id": "8b98c897",
   "metadata": {},
   "outputs": [],
   "source": [
    "# n_dimensions\n",
    "n, d = np.shape(X_train)\n",
    "n_t = np.shape(X_test)[0]"
   ]
  },
  {
   "cell_type": "code",
   "execution_count": 533,
   "id": "376b9536",
   "metadata": {},
   "outputs": [
    {
     "name": "stdout",
     "output_type": "stream",
     "text": [
      "5 331 83\n"
     ]
    }
   ],
   "source": [
    "print(d, n, n_t)"
   ]
  },
  {
   "cell_type": "code",
   "execution_count": 534,
   "id": "91c281d8",
   "metadata": {},
   "outputs": [],
   "source": [
    "X_train = X_train.to_numpy()\n",
    "X_train_old = X_train.copy()\n",
    "y_train = y_train.to_numpy()\n",
    "X_test = X_test.to_numpy()\n",
    "X_test_old = X_test.copy()\n",
    "y_test = y_test.to_numpy()\n",
    "lis = [X_train, X_test, d]\n",
    "\n",
    "def add_bias():\n",
    "    lis[0] = np.append(np.ones(n).reshape(n, 1), lis[0], axis=1)\n",
    "    lis[1] = np.append(np.ones(n_t).reshape(n_t, 1), lis[1], axis=1)\n",
    "    lis[2] += 1\n",
    "\n",
    "# add_bias()\n",
    "# X_train, X_test, d = lis"
   ]
  },
  {
   "cell_type": "markdown",
   "id": "ee515945",
   "metadata": {},
   "source": [
    "## Evaluation Function"
   ]
  },
  {
   "cell_type": "code",
   "execution_count": 535,
   "id": "059f665e",
   "metadata": {},
   "outputs": [],
   "source": [
    "# MSE evaluation\n",
    "def evaluate(X, y, parameters):\n",
    "    diff = y - np.matmul(X, parameters)\n",
    "    eval = np.sum(np.power(diff, 2))/np.size(diff)\n",
    "    return eval"
   ]
  },
  {
   "cell_type": "markdown",
   "id": "cb32dee165bfc767",
   "metadata": {
    "collapsed": false
   },
   "source": [
    "## Linear Regression"
   ]
  },
  {
   "cell_type": "code",
   "execution_count": 536,
   "id": "f8fc073d777ee178",
   "metadata": {
    "ExecuteTime": {
     "end_time": "2024-04-27T22:39:38.500428Z",
     "start_time": "2024-04-27T22:39:38.497442Z"
    },
    "collapsed": false
   },
   "outputs": [
    {
     "name": "stdout",
     "output_type": "stream",
     "text": [
      "52.33244456006061\n",
      "[-2.93019547e-01 -4.42037513e-03  1.25778754e+00  2.22884035e+02\n",
      " -4.54391784e+01]\n"
     ]
    }
   ],
   "source": [
    "# derivative\n",
    "# beta = (X_train.T * X_train)^(-1) * X_train.T * y_train\n",
    "beta_linear = np.matmul(np.linalg.inv(np.matmul(X_train.T, X_train)), np.matmul(X_train.T, y_train))\n",
    "\n",
    "# test\n",
    "print(evaluate(X_test, y_test, beta_linear))\n",
    "print(beta_linear)"
   ]
  },
  {
   "cell_type": "markdown",
   "id": "f2a6ec5f88f7f7e0",
   "metadata": {
    "collapsed": false
   },
   "source": [
    "## Polynomial Regression"
   ]
  },
  {
   "cell_type": "code",
   "execution_count": 537,
   "id": "b821590bcec1b57",
   "metadata": {
    "ExecuteTime": {
     "end_time": "2024-04-27T22:39:41.951561Z",
     "start_time": "2024-04-27T22:39:41.949418Z"
    },
    "collapsed": false
   },
   "outputs": [
    {
     "name": "stdout",
     "output_type": "stream",
     "text": [
      "40.72222661661381\n",
      "[-1.01675378e+00 -1.22210056e-02  5.58597443e-01 -3.33244588e+05\n",
      "  6.84201613e+04  1.87478484e-02  1.59841278e-06  8.50228858e-03\n",
      "  6.67786438e+03 -2.81497311e+02]\n"
     ]
    }
   ],
   "source": [
    "# derivative\n",
    "# beta = (X_train.T * X_train)^(-1) * X_train.T * y_train\n",
    "X_poly = np.append(X_train, np.power(X_train_old, 2), axis=1)\n",
    "beta_linear = np.matmul(np.linalg.inv(np.matmul(X_poly.T, X_poly)), np.matmul(X_poly.T, y_train))\n",
    "\n",
    "# test\n",
    "X_test_poly = np.append(X_test, np.power(X_test_old, 2), axis=1)\n",
    "print(evaluate(X_test_poly, y_test, beta_linear))\n",
    "print(beta_linear)"
   ]
  },
  {
   "cell_type": "markdown",
   "id": "ca0893b45bcbeeef",
   "metadata": {
    "collapsed": false
   },
   "source": [
    "## Ridge Regression"
   ]
  },
  {
   "cell_type": "code",
   "execution_count": 539,
   "id": "26515c29b9b71ae1",
   "metadata": {
    "ExecuteTime": {
     "end_time": "2024-04-27T22:39:45.585869Z",
     "start_time": "2024-04-27T22:39:45.582856Z"
    },
    "collapsed": false
   },
   "outputs": [
    {
     "name": "stdout",
     "output_type": "stream",
     "text": [
      "57.08434691091277\n",
      "[-0.27008115 -0.00518566  1.32823035  0.14839317  0.32246376]\n"
     ]
    }
   ],
   "source": [
    "l = 100\n",
    "\n",
    "# derivative\n",
    "# beta = (X_train.T * X_train + lambda * I)^(-1) * X_train.T * y_train\n",
    "beta_ridge = np.matmul(np.linalg.inv(np.matmul(X_train.T, X_train) + l * np.identity(d)), np.matmul(X_train.T, y_train))\n",
    "\n",
    "# test\n",
    "print(evaluate(X_test, y_test, beta_ridge))\n",
    "print(beta_ridge)"
   ]
  },
  {
   "cell_type": "markdown",
   "id": "dc099ac9d4c684cf",
   "metadata": {
    "collapsed": false
   },
   "source": [
    "## Lasso Regression"
   ]
  },
  {
   "cell_type": "code",
   "execution_count": 567,
   "id": "9f7f9365e54d1d2a",
   "metadata": {
    "ExecuteTime": {
     "end_time": "2024-04-27T22:39:49.267279Z",
     "start_time": "2024-04-27T22:39:49.264334Z"
    },
    "collapsed": false
   },
   "outputs": [
    {
     "name": "stdout",
     "output_type": "stream",
     "text": [
      "58.61647887412847\n",
      "[-0.23960494 -0.00675607  0.23675963  0.07961039  0.38310518]\n"
     ]
    }
   ],
   "source": [
    "l = 1\n",
    "alpha = 0.000000001\n",
    "iter = 100000\n",
    "beta_lasso = np.zeros(d)\n",
    "\n",
    "# train\n",
    "# beta = beta - learning_rate *(X_train.T * X_train * beta + l/2 * sign(beta) - X_train.T * y_train)\n",
    "for _ in range(iter):\n",
    "    beta_lasso = beta_lasso - alpha * (\n",
    "        np.matmul(np.matmul(X_train.T, X_train), beta_lasso) + l / 2 * np.sign(beta_lasso) - np.matmul(X_train.T, y_train))\n",
    "\n",
    "# test\n",
    "print(evaluate(X_test, y_test, beta_lasso))\n",
    "print(beta_lasso)"
   ]
  },
  {
   "cell_type": "markdown",
   "id": "2db7ffa9dc5c164a",
   "metadata": {
    "collapsed": false
   },
   "source": [
    "## Elastic Net Regression"
   ]
  },
  {
   "cell_type": "code",
   "execution_count": 564,
   "id": "7e3e21c82caafbaf",
   "metadata": {
    "ExecuteTime": {
     "end_time": "2024-04-27T22:39:52.916126Z",
     "start_time": "2024-04-27T22:39:52.913336Z"
    },
    "collapsed": false
   },
   "outputs": [
    {
     "name": "stdout",
     "output_type": "stream",
     "text": [
      "58.61651177736179\n",
      "[-0.23959844 -0.00675608  0.23674879  0.07961023  0.38310464]\n"
     ]
    }
   ],
   "source": [
    "l = 1\n",
    "alpha = 0.000000001\n",
    "iter = 100000\n",
    "beta_elastic_net = np.zeros(d)\n",
    "\n",
    "# train\n",
    "# beta = beta - learning_rate *(X_train.T * X_train * beta + l/2 * sign(beta) + l * beta - X_train.T * y_train)\n",
    "for _ in range(iter):\n",
    "    beta_elastic_net = beta_elastic_net - alpha * (\n",
    "        np.matmul(np.matmul(X_train.T, X_train), beta_elastic_net) + \n",
    "        l / 2 * np.sign(beta_elastic_net) + l * beta_elastic_net - np.matmul(X_train.T, y_train))\n",
    "\n",
    "# test\n",
    "print(evaluate(X_test, y_test, beta_elastic_net))\n",
    "print(beta_elastic_net)"
   ]
  },
  {
   "cell_type": "markdown",
   "id": "57a6793d329b39c1",
   "metadata": {
    "collapsed": false
   },
   "source": [
    "## XGBoost Regression "
   ]
  },
  {
   "cell_type": "code",
   "execution_count": 542,
   "id": "e2aa7f74e22f6129",
   "metadata": {
    "ExecuteTime": {
     "end_time": "2024-04-27T22:39:56.413160Z",
     "start_time": "2024-04-27T22:39:56.410201Z"
    },
    "collapsed": false
   },
   "outputs": [
    {
     "name": "stdout",
     "output_type": "stream",
     "text": [
      "43.97082047620512\n"
     ]
    }
   ],
   "source": [
    "\n",
    "beta_xgboost = xgb.XGBRegressor()\n",
    "beta_xgboost.fit(X_train, y_train)\n",
    "\n",
    "diff = y_test - beta_xgboost.predict(X_test)\n",
    "eval = np.sum(np.power(diff, 2))/np.size(diff)\n",
    "print(eval)"
   ]
  },
  {
   "cell_type": "code",
   "execution_count": 543,
   "id": "0d1a0286",
   "metadata": {},
   "outputs": [],
   "source": [
    "class XGboostReg:\n",
    "    def __init__(self, steps=5):\n",
    "        self.steps = steps\n",
    "        self.lin_reg_params = []\n",
    "    def fit(self, X, y):\n",
    "        n = np.size(y)\n",
    "        l = np.ones(n) * sum([yi for yi in y]) / n \n",
    "        for _ in range(self.steps):\n",
    "            resid_y = np.array([(y[i] - l[i]) for i in range(n)]) * 2 / n\n",
    "            self.lin_reg_fit(X, resid_y)\n",
    "            l = self.pred(X)\n",
    "            \n",
    "            \n",
    "    def lin_reg_fit(self, X, y):\n",
    "        self.lin_reg_params.append(np.matmul(np.linalg.inv(np.matmul(X.T, X)), np.matmul(X.T, y)))\n",
    "    def lin_reg_pred(self, X):\n",
    "        return np.matmul(X, self.lin_reg_params)\n",
    "    def pred(self, X):\n",
    "        n = np.shape(X)[0]\n",
    "        y = np.zeros(n)\n",
    "        y = sum([np.matmul(X, self.lin_reg_params[j]) for j in range(len(self.lin_reg_params))])\n",
    "        return y\n",
    "            \n",
    "        \n",
    "        "
   ]
  },
  {
   "cell_type": "code",
   "execution_count": 544,
   "id": "7cc4d51f",
   "metadata": {},
   "outputs": [
    {
     "name": "stdout",
     "output_type": "stream",
     "text": [
      "52.341203821243774\n"
     ]
    }
   ],
   "source": [
    "beta_xgboost = XGboostReg(steps=1000)\n",
    "beta_xgboost.fit(X_train, y_train)\n",
    "\n",
    "diff = y_test - beta_xgboost.pred(X_test)\n",
    "eval = np.sum(np.power(diff, 2))/np.size(diff)\n",
    "print(eval)"
   ]
  },
  {
   "cell_type": "markdown",
   "id": "ef3c55fb0ba403b1",
   "metadata": {
    "collapsed": false
   },
   "source": [
    "# Assosiation Rules"
   ]
  },
  {
   "cell_type": "code",
   "execution_count": 545,
   "id": "0a674d39",
   "metadata": {},
   "outputs": [],
   "source": [
    "from mlxtend.preprocessing import TransactionEncoder\n",
    "from mlxtend.frequent_patterns import apriori, association_rules, fpgrowth"
   ]
  },
  {
   "cell_type": "code",
   "execution_count": 546,
   "id": "b2f73513",
   "metadata": {},
   "outputs": [],
   "source": [
    "df = pd.read_csv('grocery.csv', header=None)"
   ]
  },
  {
   "cell_type": "code",
   "execution_count": 547,
   "id": "46338968",
   "metadata": {},
   "outputs": [],
   "source": [
    "# Preprocessing Data\n",
    "transactions = []\n",
    "for i in range(len(df)):\n",
    "    l = []\n",
    "    set = df.iloc[i, :][0].split(',')\n",
    "    for item in set:\n",
    "        l.append(item)\n",
    "    transactions.append(l)"
   ]
  },
  {
   "cell_type": "code",
   "execution_count": 548,
   "id": "4f3acf8d",
   "metadata": {},
   "outputs": [],
   "source": [
    "# Applying TransactionEncoder\n",
    "t_encoder = TransactionEncoder()\n",
    "t_encoded = t_encoder.fit(transactions).transform(transactions)\n",
    "# To pandas dataframe\n",
    "df_t_encoded = pd.DataFrame(t_encoded, columns=t_encoder.columns_)"
   ]
  },
  {
   "cell_type": "code",
   "execution_count": 549,
   "id": "01db2aac",
   "metadata": {},
   "outputs": [
    {
     "data": {
      "text/html": [
       "<div>\n",
       "<style scoped>\n",
       "    .dataframe tbody tr th:only-of-type {\n",
       "        vertical-align: middle;\n",
       "    }\n",
       "\n",
       "    .dataframe tbody tr th {\n",
       "        vertical-align: top;\n",
       "    }\n",
       "\n",
       "    .dataframe thead th {\n",
       "        text-align: right;\n",
       "    }\n",
       "</style>\n",
       "<table border=\"1\" class=\"dataframe\">\n",
       "  <thead>\n",
       "    <tr style=\"text-align: right;\">\n",
       "      <th></th>\n",
       "      <th>support</th>\n",
       "      <th>itemsets</th>\n",
       "    </tr>\n",
       "  </thead>\n",
       "  <tbody>\n",
       "    <tr>\n",
       "      <th>0</th>\n",
       "      <td>0.65</td>\n",
       "      <td>(BREAD)</td>\n",
       "    </tr>\n",
       "    <tr>\n",
       "      <th>1</th>\n",
       "      <td>0.35</td>\n",
       "      <td>(BISCUIT)</td>\n",
       "    </tr>\n",
       "    <tr>\n",
       "      <th>2</th>\n",
       "      <td>0.25</td>\n",
       "      <td>(MILK)</td>\n",
       "    </tr>\n",
       "    <tr>\n",
       "      <th>3</th>\n",
       "      <td>0.30</td>\n",
       "      <td>(CORNFLAKES)</td>\n",
       "    </tr>\n",
       "    <tr>\n",
       "      <th>4</th>\n",
       "      <td>0.35</td>\n",
       "      <td>(TEA)</td>\n",
       "    </tr>\n",
       "    <tr>\n",
       "      <th>5</th>\n",
       "      <td>0.20</td>\n",
       "      <td>(BOURNVITA)</td>\n",
       "    </tr>\n",
       "    <tr>\n",
       "      <th>6</th>\n",
       "      <td>0.25</td>\n",
       "      <td>(MAGGI)</td>\n",
       "    </tr>\n",
       "    <tr>\n",
       "      <th>7</th>\n",
       "      <td>0.40</td>\n",
       "      <td>(COFFEE)</td>\n",
       "    </tr>\n",
       "    <tr>\n",
       "      <th>8</th>\n",
       "      <td>0.30</td>\n",
       "      <td>(SUGER)</td>\n",
       "    </tr>\n",
       "    <tr>\n",
       "      <th>9</th>\n",
       "      <td>0.20</td>\n",
       "      <td>(BREAD, BISCUIT)</td>\n",
       "    </tr>\n",
       "    <tr>\n",
       "      <th>10</th>\n",
       "      <td>0.20</td>\n",
       "      <td>(BREAD, MILK)</td>\n",
       "    </tr>\n",
       "    <tr>\n",
       "      <th>11</th>\n",
       "      <td>0.20</td>\n",
       "      <td>(CORNFLAKES, COFFEE)</td>\n",
       "    </tr>\n",
       "    <tr>\n",
       "      <th>12</th>\n",
       "      <td>0.20</td>\n",
       "      <td>(TEA, BREAD)</td>\n",
       "    </tr>\n",
       "    <tr>\n",
       "      <th>13</th>\n",
       "      <td>0.20</td>\n",
       "      <td>(TEA, MAGGI)</td>\n",
       "    </tr>\n",
       "    <tr>\n",
       "      <th>14</th>\n",
       "      <td>0.20</td>\n",
       "      <td>(SUGER, COFFEE)</td>\n",
       "    </tr>\n",
       "    <tr>\n",
       "      <th>15</th>\n",
       "      <td>0.20</td>\n",
       "      <td>(SUGER, BREAD)</td>\n",
       "    </tr>\n",
       "  </tbody>\n",
       "</table>\n",
       "</div>"
      ],
      "text/plain": [
       "    support              itemsets\n",
       "0      0.65               (BREAD)\n",
       "1      0.35             (BISCUIT)\n",
       "2      0.25                (MILK)\n",
       "3      0.30          (CORNFLAKES)\n",
       "4      0.35                 (TEA)\n",
       "5      0.20           (BOURNVITA)\n",
       "6      0.25               (MAGGI)\n",
       "7      0.40              (COFFEE)\n",
       "8      0.30               (SUGER)\n",
       "9      0.20      (BREAD, BISCUIT)\n",
       "10     0.20         (BREAD, MILK)\n",
       "11     0.20  (CORNFLAKES, COFFEE)\n",
       "12     0.20          (TEA, BREAD)\n",
       "13     0.20          (TEA, MAGGI)\n",
       "14     0.20       (SUGER, COFFEE)\n",
       "15     0.20        (SUGER, BREAD)"
      ]
     },
     "execution_count": 549,
     "metadata": {},
     "output_type": "execute_result"
    }
   ],
   "source": [
    "# Frequent Itemsets\n",
    "frequent_itemsets = fpgrowth(df_t_encoded, min_support=0.2,use_colnames=True)\n",
    "frequent_itemsets"
   ]
  },
  {
   "cell_type": "code",
   "execution_count": 550,
   "id": "df0dc8a5",
   "metadata": {},
   "outputs": [
    {
     "data": {
      "text/html": [
       "<div>\n",
       "<style scoped>\n",
       "    .dataframe tbody tr th:only-of-type {\n",
       "        vertical-align: middle;\n",
       "    }\n",
       "\n",
       "    .dataframe tbody tr th {\n",
       "        vertical-align: top;\n",
       "    }\n",
       "\n",
       "    .dataframe thead th {\n",
       "        text-align: right;\n",
       "    }\n",
       "</style>\n",
       "<table border=\"1\" class=\"dataframe\">\n",
       "  <thead>\n",
       "    <tr style=\"text-align: right;\">\n",
       "      <th></th>\n",
       "      <th>antecedents</th>\n",
       "      <th>consequents</th>\n",
       "      <th>antecedent support</th>\n",
       "      <th>consequent support</th>\n",
       "      <th>support</th>\n",
       "      <th>confidence</th>\n",
       "      <th>lift</th>\n",
       "      <th>leverage</th>\n",
       "      <th>conviction</th>\n",
       "      <th>zhangs_metric</th>\n",
       "    </tr>\n",
       "  </thead>\n",
       "  <tbody>\n",
       "    <tr>\n",
       "      <th>0</th>\n",
       "      <td>(BISCUIT)</td>\n",
       "      <td>(BREAD)</td>\n",
       "      <td>0.35</td>\n",
       "      <td>0.65</td>\n",
       "      <td>0.2</td>\n",
       "      <td>0.571429</td>\n",
       "      <td>0.879121</td>\n",
       "      <td>-0.0275</td>\n",
       "      <td>0.816667</td>\n",
       "      <td>-0.174603</td>\n",
       "    </tr>\n",
       "    <tr>\n",
       "      <th>1</th>\n",
       "      <td>(MILK)</td>\n",
       "      <td>(BREAD)</td>\n",
       "      <td>0.25</td>\n",
       "      <td>0.65</td>\n",
       "      <td>0.2</td>\n",
       "      <td>0.800000</td>\n",
       "      <td>1.230769</td>\n",
       "      <td>0.0375</td>\n",
       "      <td>1.750000</td>\n",
       "      <td>0.250000</td>\n",
       "    </tr>\n",
       "    <tr>\n",
       "      <th>2</th>\n",
       "      <td>(CORNFLAKES)</td>\n",
       "      <td>(COFFEE)</td>\n",
       "      <td>0.30</td>\n",
       "      <td>0.40</td>\n",
       "      <td>0.2</td>\n",
       "      <td>0.666667</td>\n",
       "      <td>1.666667</td>\n",
       "      <td>0.0800</td>\n",
       "      <td>1.800000</td>\n",
       "      <td>0.571429</td>\n",
       "    </tr>\n",
       "    <tr>\n",
       "      <th>3</th>\n",
       "      <td>(COFFEE)</td>\n",
       "      <td>(CORNFLAKES)</td>\n",
       "      <td>0.40</td>\n",
       "      <td>0.30</td>\n",
       "      <td>0.2</td>\n",
       "      <td>0.500000</td>\n",
       "      <td>1.666667</td>\n",
       "      <td>0.0800</td>\n",
       "      <td>1.400000</td>\n",
       "      <td>0.666667</td>\n",
       "    </tr>\n",
       "    <tr>\n",
       "      <th>4</th>\n",
       "      <td>(TEA)</td>\n",
       "      <td>(BREAD)</td>\n",
       "      <td>0.35</td>\n",
       "      <td>0.65</td>\n",
       "      <td>0.2</td>\n",
       "      <td>0.571429</td>\n",
       "      <td>0.879121</td>\n",
       "      <td>-0.0275</td>\n",
       "      <td>0.816667</td>\n",
       "      <td>-0.174603</td>\n",
       "    </tr>\n",
       "    <tr>\n",
       "      <th>5</th>\n",
       "      <td>(TEA)</td>\n",
       "      <td>(MAGGI)</td>\n",
       "      <td>0.35</td>\n",
       "      <td>0.25</td>\n",
       "      <td>0.2</td>\n",
       "      <td>0.571429</td>\n",
       "      <td>2.285714</td>\n",
       "      <td>0.1125</td>\n",
       "      <td>1.750000</td>\n",
       "      <td>0.865385</td>\n",
       "    </tr>\n",
       "    <tr>\n",
       "      <th>6</th>\n",
       "      <td>(MAGGI)</td>\n",
       "      <td>(TEA)</td>\n",
       "      <td>0.25</td>\n",
       "      <td>0.35</td>\n",
       "      <td>0.2</td>\n",
       "      <td>0.800000</td>\n",
       "      <td>2.285714</td>\n",
       "      <td>0.1125</td>\n",
       "      <td>3.250000</td>\n",
       "      <td>0.750000</td>\n",
       "    </tr>\n",
       "    <tr>\n",
       "      <th>7</th>\n",
       "      <td>(SUGER)</td>\n",
       "      <td>(COFFEE)</td>\n",
       "      <td>0.30</td>\n",
       "      <td>0.40</td>\n",
       "      <td>0.2</td>\n",
       "      <td>0.666667</td>\n",
       "      <td>1.666667</td>\n",
       "      <td>0.0800</td>\n",
       "      <td>1.800000</td>\n",
       "      <td>0.571429</td>\n",
       "    </tr>\n",
       "    <tr>\n",
       "      <th>8</th>\n",
       "      <td>(COFFEE)</td>\n",
       "      <td>(SUGER)</td>\n",
       "      <td>0.40</td>\n",
       "      <td>0.30</td>\n",
       "      <td>0.2</td>\n",
       "      <td>0.500000</td>\n",
       "      <td>1.666667</td>\n",
       "      <td>0.0800</td>\n",
       "      <td>1.400000</td>\n",
       "      <td>0.666667</td>\n",
       "    </tr>\n",
       "    <tr>\n",
       "      <th>9</th>\n",
       "      <td>(SUGER)</td>\n",
       "      <td>(BREAD)</td>\n",
       "      <td>0.30</td>\n",
       "      <td>0.65</td>\n",
       "      <td>0.2</td>\n",
       "      <td>0.666667</td>\n",
       "      <td>1.025641</td>\n",
       "      <td>0.0050</td>\n",
       "      <td>1.050000</td>\n",
       "      <td>0.035714</td>\n",
       "    </tr>\n",
       "  </tbody>\n",
       "</table>\n",
       "</div>"
      ],
      "text/plain": [
       "    antecedents   consequents  antecedent support  consequent support  \\\n",
       "0     (BISCUIT)       (BREAD)                0.35                0.65   \n",
       "1        (MILK)       (BREAD)                0.25                0.65   \n",
       "2  (CORNFLAKES)      (COFFEE)                0.30                0.40   \n",
       "3      (COFFEE)  (CORNFLAKES)                0.40                0.30   \n",
       "4         (TEA)       (BREAD)                0.35                0.65   \n",
       "5         (TEA)       (MAGGI)                0.35                0.25   \n",
       "6       (MAGGI)         (TEA)                0.25                0.35   \n",
       "7       (SUGER)      (COFFEE)                0.30                0.40   \n",
       "8      (COFFEE)       (SUGER)                0.40                0.30   \n",
       "9       (SUGER)       (BREAD)                0.30                0.65   \n",
       "\n",
       "   support  confidence      lift  leverage  conviction  zhangs_metric  \n",
       "0      0.2    0.571429  0.879121   -0.0275    0.816667      -0.174603  \n",
       "1      0.2    0.800000  1.230769    0.0375    1.750000       0.250000  \n",
       "2      0.2    0.666667  1.666667    0.0800    1.800000       0.571429  \n",
       "3      0.2    0.500000  1.666667    0.0800    1.400000       0.666667  \n",
       "4      0.2    0.571429  0.879121   -0.0275    0.816667      -0.174603  \n",
       "5      0.2    0.571429  2.285714    0.1125    1.750000       0.865385  \n",
       "6      0.2    0.800000  2.285714    0.1125    3.250000       0.750000  \n",
       "7      0.2    0.666667  1.666667    0.0800    1.800000       0.571429  \n",
       "8      0.2    0.500000  1.666667    0.0800    1.400000       0.666667  \n",
       "9      0.2    0.666667  1.025641    0.0050    1.050000       0.035714  "
      ]
     },
     "execution_count": 550,
     "metadata": {},
     "output_type": "execute_result"
    }
   ],
   "source": [
    "# Association Rules\n",
    "rules = association_rules(frequent_itemsets, metric=\"confidence\", min_threshold=0.5)\n",
    "rules"
   ]
  }
 ],
 "metadata": {
  "kernelspec": {
   "display_name": "Python 3 (ipykernel)",
   "language": "python",
   "name": "python3"
  },
  "language_info": {
   "codemirror_mode": {
    "name": "ipython",
    "version": 3
   },
   "file_extension": ".py",
   "mimetype": "text/x-python",
   "name": "python",
   "nbconvert_exporter": "python",
   "pygments_lexer": "ipython3",
   "version": "3.12.2"
  }
 },
 "nbformat": 4,
 "nbformat_minor": 5
}
