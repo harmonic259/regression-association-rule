{
 "cells": [
  {
   "cell_type": "markdown",
   "id": "f1ebe1ed03240222",
   "metadata": {
    "collapsed": false
   },
   "source": [
    "<h1 align=center style=\"line-height:300%;font-family:vazir;color:#0099cc\">\n",
    "<font face=\"vazir\" color=\"#0099cc\">\n",
    "پروژه دوم درس داده کاوی\n",
    "</font>\n",
    "</h1>\n",
    "<h3 align=center style=\"line-height:100%;font-family:vazir;color:#0099cc\">\n",
    "استاد درس: دکتر ناظرفرد\n",
    "</h3>\n",
    "<h5 align=center style=\"font-size: 20px;line-height:100%;font-family:vazir;color:#0099cc\">\n",
    "طراح تمرین عملی: فرهاد امان  \n",
    "    </h5>"
   ]
  },
  {
   "cell_type": "markdown",
   "id": "8a5cceb20243cb51",
   "metadata": {
    "collapsed": false
   },
   "source": [
    "## Importing Libraries"
   ]
  },
  {
   "cell_type": "code",
   "execution_count": 2,
   "id": "513c007129509625",
   "metadata": {
    "ExecuteTime": {
     "end_time": "2024-04-27T22:39:08.679611Z",
     "start_time": "2024-04-27T22:39:08.677798Z"
    },
    "collapsed": false
   },
   "outputs": [],
   "source": [
    "import pandas as pd\n",
    "import numpy as np"
   ]
  },
  {
   "cell_type": "markdown",
   "id": "f4016a2a80b807de",
   "metadata": {
    "collapsed": false
   },
   "source": [
    "## Loading Data to Pandas DataFrame"
   ]
  },
  {
   "cell_type": "code",
   "execution_count": 8,
   "id": "d29b38dfb701904b",
   "metadata": {
    "ExecuteTime": {
     "end_time": "2024-04-27T22:39:11.202352Z",
     "start_time": "2024-04-27T22:39:11.199816Z"
    },
    "collapsed": false
   },
   "outputs": [
    {
     "name": "stderr",
     "output_type": "stream",
     "text": [
      "<>:1: SyntaxWarning: invalid escape sequence '\\D'\n",
      "<>:1: SyntaxWarning: invalid escape sequence '\\D'\n",
      "C:\\Users\\ASUS-PC Ishragh\\AppData\\Local\\Temp\\ipykernel_21380\\3952008500.py:1: SyntaxWarning: invalid escape sequence '\\D'\n",
      "  df = pd.read_csv('D:\\\\University\\\\Term6\\Data Mining\\\\projects\\\\Project2\\\\real-estate.csv')\n"
     ]
    }
   ],
   "source": [
    "df = pd.read_csv('D:\\\\University\\\\Term6\\Data Mining\\\\projects\\\\Project2\\\\real-estate.csv')"
   ]
  },
  {
   "cell_type": "code",
   "execution_count": 9,
   "id": "4c2fe713",
   "metadata": {},
   "outputs": [
    {
     "name": "stdout",
     "output_type": "stream",
     "text": [
      "   No  X1 transaction date  X2 house age  \\\n",
      "0   1             2012.917          32.0   \n",
      "1   2             2012.917          19.5   \n",
      "2   3             2013.583          13.3   \n",
      "3   4             2013.500          13.3   \n",
      "4   5             2012.833           5.0   \n",
      "\n",
      "   X3 distance to the nearest MRT station  X4 number of convenience stores  \\\n",
      "0                                84.87882                               10   \n",
      "1                               306.59470                                9   \n",
      "2                               561.98450                                5   \n",
      "3                               561.98450                                5   \n",
      "4                               390.56840                                5   \n",
      "\n",
      "   X5 latitude  X6 longitude  Y house price of unit area  \n",
      "0     24.98298     121.54024                        37.9  \n",
      "1     24.98034     121.53951                        42.2  \n",
      "2     24.98746     121.54391                        47.3  \n",
      "3     24.98746     121.54391                        54.8  \n",
      "4     24.97937     121.54245                        43.1  \n"
     ]
    }
   ],
   "source": [
    "print(df.head())"
   ]
  },
  {
   "cell_type": "markdown",
   "id": "7a82dd9cdac10809",
   "metadata": {
    "collapsed": false
   },
   "source": [
    "## Droping Unnecessary Columns"
   ]
  },
  {
   "cell_type": "code",
   "execution_count": null,
   "id": "d2c43acc649ad598",
   "metadata": {
    "ExecuteTime": {
     "end_time": "2024-04-27T22:39:14.866814Z",
     "start_time": "2024-04-27T22:39:14.863656Z"
    },
    "collapsed": false
   },
   "outputs": [],
   "source": []
  },
  {
   "cell_type": "markdown",
   "id": "90b80fb323fb1cb3",
   "metadata": {
    "collapsed": false
   },
   "source": [
    "## Splitting Data to Train and Test"
   ]
  },
  {
   "cell_type": "code",
   "execution_count": null,
   "id": "44527331bef11c93",
   "metadata": {
    "ExecuteTime": {
     "end_time": "2024-04-27T22:39:18.483566Z",
     "start_time": "2024-04-27T22:39:18.480011Z"
    },
    "collapsed": false
   },
   "outputs": [],
   "source": []
  },
  {
   "cell_type": "markdown",
   "id": "45b13a1182adba70",
   "metadata": {
    "collapsed": false
   },
   "source": [
    "## Visualizing Data Distribution and Correlation"
   ]
  },
  {
   "cell_type": "code",
   "execution_count": null,
   "id": "7b7fb9f4b420ef65",
   "metadata": {
    "ExecuteTime": {
     "end_time": "2024-04-27T22:39:31.934602Z",
     "start_time": "2024-04-27T22:39:31.931769Z"
    },
    "collapsed": false
   },
   "outputs": [],
   "source": []
  },
  {
   "cell_type": "code",
   "execution_count": null,
   "id": "8e0a6a6792f507d0",
   "metadata": {
    "ExecuteTime": {
     "end_time": "2024-04-27T22:39:32.186119Z",
     "start_time": "2024-04-27T22:39:32.184328Z"
    },
    "collapsed": false
   },
   "outputs": [],
   "source": []
  },
  {
   "cell_type": "code",
   "execution_count": null,
   "id": "64e0f4c96e2498da",
   "metadata": {
    "ExecuteTime": {
     "end_time": "2024-04-27T22:39:34.724574Z",
     "start_time": "2024-04-27T22:39:34.722790Z"
    },
    "collapsed": false
   },
   "outputs": [],
   "source": []
  },
  {
   "cell_type": "markdown",
   "id": "cb32dee165bfc767",
   "metadata": {
    "collapsed": false
   },
   "source": [
    "## Linear Regression"
   ]
  },
  {
   "cell_type": "code",
   "execution_count": null,
   "id": "f8fc073d777ee178",
   "metadata": {
    "ExecuteTime": {
     "end_time": "2024-04-27T22:39:38.500428Z",
     "start_time": "2024-04-27T22:39:38.497442Z"
    },
    "collapsed": false
   },
   "outputs": [],
   "source": []
  },
  {
   "cell_type": "markdown",
   "id": "f2a6ec5f88f7f7e0",
   "metadata": {
    "collapsed": false
   },
   "source": [
    "## Polynomial Regression"
   ]
  },
  {
   "cell_type": "code",
   "execution_count": null,
   "id": "b821590bcec1b57",
   "metadata": {
    "ExecuteTime": {
     "end_time": "2024-04-27T22:39:41.951561Z",
     "start_time": "2024-04-27T22:39:41.949418Z"
    },
    "collapsed": false
   },
   "outputs": [],
   "source": []
  },
  {
   "cell_type": "markdown",
   "id": "ca0893b45bcbeeef",
   "metadata": {
    "collapsed": false
   },
   "source": [
    "## Ridge Regression"
   ]
  },
  {
   "cell_type": "code",
   "execution_count": null,
   "id": "26515c29b9b71ae1",
   "metadata": {
    "ExecuteTime": {
     "end_time": "2024-04-27T22:39:45.585869Z",
     "start_time": "2024-04-27T22:39:45.582856Z"
    },
    "collapsed": false
   },
   "outputs": [],
   "source": []
  },
  {
   "cell_type": "markdown",
   "id": "dc099ac9d4c684cf",
   "metadata": {
    "collapsed": false
   },
   "source": [
    "## Lasso Regression"
   ]
  },
  {
   "cell_type": "code",
   "execution_count": null,
   "id": "9f7f9365e54d1d2a",
   "metadata": {
    "ExecuteTime": {
     "end_time": "2024-04-27T22:39:49.267279Z",
     "start_time": "2024-04-27T22:39:49.264334Z"
    },
    "collapsed": false
   },
   "outputs": [],
   "source": []
  },
  {
   "cell_type": "markdown",
   "id": "2db7ffa9dc5c164a",
   "metadata": {
    "collapsed": false
   },
   "source": [
    "## Elastic Net Regression"
   ]
  },
  {
   "cell_type": "code",
   "execution_count": null,
   "id": "7e3e21c82caafbaf",
   "metadata": {
    "ExecuteTime": {
     "end_time": "2024-04-27T22:39:52.916126Z",
     "start_time": "2024-04-27T22:39:52.913336Z"
    },
    "collapsed": false
   },
   "outputs": [],
   "source": []
  },
  {
   "cell_type": "markdown",
   "id": "57a6793d329b39c1",
   "metadata": {
    "collapsed": false
   },
   "source": [
    "## XGBoost Regression "
   ]
  },
  {
   "cell_type": "code",
   "execution_count": null,
   "id": "e2aa7f74e22f6129",
   "metadata": {
    "ExecuteTime": {
     "end_time": "2024-04-27T22:39:56.413160Z",
     "start_time": "2024-04-27T22:39:56.410201Z"
    },
    "collapsed": false
   },
   "outputs": [],
   "source": []
  },
  {
   "cell_type": "markdown",
   "id": "ef3c55fb0ba403b1",
   "metadata": {
    "collapsed": false
   },
   "source": [
    "# Assosiation Rules"
   ]
  },
  {
   "cell_type": "code",
   "execution_count": 1,
   "id": "6ec4ab3c04abf483",
   "metadata": {
    "ExecuteTime": {
     "end_time": "2024-04-27T22:40:26.022192Z",
     "start_time": "2024-04-27T22:40:26.018139Z"
    },
    "collapsed": false
   },
   "outputs": [],
   "source": [
    "# 0. Import Libraries\n",
    "\n",
    "\n",
    "# 1. Data Loading\n",
    "\n",
    "\n",
    "# 2. Preprocess Data\n",
    "\n",
    "\n",
    "# 3. Apply TransactionEncoder\n",
    "\n",
    "\n",
    "# 4. Generate Frequent Itemsets\n",
    "\n",
    "\n",
    "# 5. Generate Association Rules\n",
    "\n",
    "\n",
    "# 6. Display Rules\n",
    "\n"
   ]
  },
  {
   "cell_type": "code",
   "execution_count": null,
   "id": "642037372a897727",
   "metadata": {
    "collapsed": false
   },
   "outputs": [],
   "source": []
  }
 ],
 "metadata": {
  "kernelspec": {
   "display_name": "Python 3 (ipykernel)",
   "language": "python",
   "name": "python3"
  }
 },
 "nbformat": 4,
 "nbformat_minor": 5
}
